{
  "cells": [
    {
      "cell_type": "markdown",
      "metadata": {},
      "source": [
        "# \u00a75.1 Concentration (HHI) \u2014 ETH & Cosmos\n",
        "\n",
        "This notebook displays the **official HHI summary** (from `reports/metrics/hhi_summary.json`) and **recomputes** HHI directly from the processed CSVs for a sanity check.\n"
      ]
    },
    {
      "cell_type": "code",
      "metadata": {},
      "execution_count": null,
      "outputs": [],
      "source": [
        "import json, pandas as pd\n",
        "from pathlib import Path\n",
        "js = json.load(open('reports/metrics/hhi_summary.json'))\n",
        "df = pd.DataFrame(js)\n",
        "display(df[['label','HHI','N_eff','file']].round({'HHI':6,'N_eff':2}))\n"
      ]
    },
    {
      "cell_type": "markdown",
      "metadata": {},
      "source": [
        "## Cross-check from source files\n",
        "We recompute HHI from your processed CSVs to confirm the summary. Shares are auto-detected; preference is operator-level for ETH."
      ]
    },
    {
      "cell_type": "code",
      "metadata": {},
      "execution_count": null,
      "outputs": [],
      "source": [
        "import pandas as pd, math, os\n",
        "from src.metrics.hhi import hhi_from_shares\n",
        "\n",
        "paths = {\n",
        "  'ETH \u2014 Operator level': 'data/processed/ethereum/rated_operator_hhi_2025-10-21.csv',\n",
        "  'ETH \u2014 Owner level':    'data/processed/ethereum/owner_hhi_2025-10-21.csv',\n",
        "  'Cosmos Hub':           'data/processed/cosmos/cosmoshub_hhi_2025-10-21.csv',\n",
        "}\n",
        "\n",
        "def find_share_col(df):\n",
        "    # prefer explicit names\n",
        "    for c in ['raw_share','share','hhi_share','fraction','weight']:\n",
        "        if c in df.columns: return c\n",
        "    # fallback heuristic\n",
        "    num = df.select_dtypes('number')\n",
        "    for c in num.columns:\n",
        "        if 0 <= num[c].min() <= 1 and 0 <= num[c].max() <= 1 and 0.9 <= float(num[c].sum()) <= 1.1:\n",
        "            return c\n",
        "    raise KeyError('No share-like column found')\n",
        "\n",
        "rows = []\n",
        "for label, path in paths.items():\n",
        "    if not os.path.exists(path):\n",
        "        rows.append({'label': label, 'file': path, 'HHI': None, 'N_eff': None})\n",
        "        continue\n",
        "    df = pd.read_csv(path)\n",
        "    col = find_share_col(df)\n",
        "    hhi, neff = hhi_from_shares(df[col])\n",
        "    rows.append({'label': label, 'file': path, 'HHI': hhi, 'N_eff': neff})\n",
        "\n",
        "df_check = pd.DataFrame(rows)\n",
        "display(df_check[['label','HHI','N_eff','file']].round({'HHI':6,'N_eff':2}))\n"
      ]
    },
    {
      "cell_type": "markdown",
      "metadata": {},
      "source": [
        "## Write refreshed human summary\n",
        "This mirrors `scripts/build_hhi_summary.py` so the README can cite a human-readable file."
      ]
    },
    {
      "cell_type": "code",
      "metadata": {},
      "execution_count": null,
      "outputs": [],
      "source": [
        "from pathlib import Path\n",
        "md = ['# Concentration Metrics \u2014 HHI Summary\\n']\n",
        "for _,r in df_check.iterrows():\n",
        "    if pd.isna(r['HHI']):\n",
        "        md.append(f\"- {r['label']}: **(file not found)**  \\n  _Source:_ `{r['file']}`\")\n",
        "    else:\n",
        "        md.append(f\"- {r['label']}: HHI \u2248 **{r['HHI']:.6f}** \u2192 N_eff \u2248 **{r['N_eff']:.2f}**  \\n  _Source:_ `{r['file']}`\")\n",
        "Path('reports/metrics').mkdir(parents=True, exist_ok=True)\n",
        "Path('reports/metrics/hhi_summary.md').write_text('\\n'.join(md)+'\\n')\n",
        "print('Wrote reports/metrics/hhi_summary.md')\n"
      ]
    }
  ],
  "metadata": {
    "kernelspec": {
      "display_name": "Python 3",
      "language": "python",
      "name": "python3"
    },
    "language_info": {
      "name": "python"
    }
  },
  "nbformat": 4,
  "nbformat_minor": 5
}