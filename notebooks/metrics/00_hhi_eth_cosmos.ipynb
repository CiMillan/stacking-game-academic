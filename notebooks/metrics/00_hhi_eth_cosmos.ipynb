{
  "cells": [
    {
      "cell_type": "markdown",
      "metadata": {},
      "source": [
        "# \u00a75.1 Concentration (HHI) \u2014 ETH & Cosmos\n"
      ]
    },
    {
      "cell_type": "code",
      "metadata": {},
      "execution_count": null,
      "outputs": [],
      "source": [
        "import json, pandas as pd\n",
        "from pathlib import Path\n",
        "\n",
        "# Load machine-friendly summary\n",
        "js = json.load(open('reports/metrics/hhi_summary.json'))\n",
        "js\n"
      ]
    }
  ],
  "metadata": {
    "kernelspec": {
      "display_name": "Python 3",
      "language": "python",
      "name": "python3"
    },
    "language_info": {
      "name": "python"
    }
  },
  "nbformat": 4,
  "nbformat_minor": 5
}