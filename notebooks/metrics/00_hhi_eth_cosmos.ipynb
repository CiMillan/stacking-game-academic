{
 "cells": [
  {
   "cell_type": "markdown",
   "id": "c635506f",
   "metadata": {},
   "source": [
    "# §5.1 Concentration (HHI) — ETH & Cosmos\n",
    "\n",
    "This notebook displays the **official HHI summary** (from `reports/metrics/hhi_summary.json`) and **recomputes** HHI directly from the processed CSVs for a sanity check.\n"
   ]
  },
  {
   "cell_type": "code",
   "execution_count": 1,
   "id": "d9340299",
   "metadata": {
    "execution": {
     "iopub.execute_input": "2025-10-22T18:00:06.280231Z",
     "iopub.status.busy": "2025-10-22T18:00:06.279979Z",
     "iopub.status.idle": "2025-10-22T18:00:08.068326Z",
     "shell.execute_reply": "2025-10-22T18:00:08.068080Z"
    }
   },
   "outputs": [
    {
     "data": {
      "text/html": [
       "<div>\n",
       "<style scoped>\n",
       "    .dataframe tbody tr th:only-of-type {\n",
       "        vertical-align: middle;\n",
       "    }\n",
       "\n",
       "    .dataframe tbody tr th {\n",
       "        vertical-align: top;\n",
       "    }\n",
       "\n",
       "    .dataframe thead th {\n",
       "        text-align: right;\n",
       "    }\n",
       "</style>\n",
       "<table border=\"1\" class=\"dataframe\">\n",
       "  <thead>\n",
       "    <tr style=\"text-align: right;\">\n",
       "      <th></th>\n",
       "      <th>label</th>\n",
       "      <th>HHI</th>\n",
       "      <th>N_eff</th>\n",
       "      <th>file</th>\n",
       "    </tr>\n",
       "  </thead>\n",
       "  <tbody>\n",
       "    <tr>\n",
       "      <th>0</th>\n",
       "      <td>ETH — Operator level</td>\n",
       "      <td>0.027255</td>\n",
       "      <td>36.69</td>\n",
       "      <td>data/processed/ethereum/rated_operator_hhi_202...</td>\n",
       "    </tr>\n",
       "    <tr>\n",
       "      <th>1</th>\n",
       "      <td>ETH — Owner level</td>\n",
       "      <td>0.072732</td>\n",
       "      <td>13.75</td>\n",
       "      <td>data/processed/ethereum/owner_hhi_2025-10-21.csv</td>\n",
       "    </tr>\n",
       "    <tr>\n",
       "      <th>2</th>\n",
       "      <td>Cosmos Hub</td>\n",
       "      <td>0.041973</td>\n",
       "      <td>23.83</td>\n",
       "      <td>data/processed/cosmos/cosmoshub_hhi_2025-10-21...</td>\n",
       "    </tr>\n",
       "  </tbody>\n",
       "</table>\n",
       "</div>"
      ],
      "text/plain": [
       "                  label       HHI  N_eff  \\\n",
       "0  ETH — Operator level  0.027255  36.69   \n",
       "1     ETH — Owner level  0.072732  13.75   \n",
       "2            Cosmos Hub  0.041973  23.83   \n",
       "\n",
       "                                                file  \n",
       "0  data/processed/ethereum/rated_operator_hhi_202...  \n",
       "1   data/processed/ethereum/owner_hhi_2025-10-21.csv  \n",
       "2  data/processed/cosmos/cosmoshub_hhi_2025-10-21...  "
      ]
     },
     "metadata": {},
     "output_type": "display_data"
    }
   ],
   "source": [
    "import json, pandas as pd\n",
    "from pathlib import Path\n",
    "js = json.load(open('reports/metrics/hhi_summary.json'))\n",
    "df = pd.DataFrame(js)\n",
    "display(df[['label','HHI','N_eff','file']].round({'HHI':6,'N_eff':2}))\n"
   ]
  },
  {
   "cell_type": "markdown",
   "id": "937fadaa",
   "metadata": {},
   "source": [
    "## Cross-check from source files\n",
    "We recompute HHI from your processed CSVs to confirm the summary. Shares are auto-detected; preference is operator-level for ETH."
   ]
  },
  {
   "cell_type": "code",
   "execution_count": 2,
   "id": "262f2b60",
   "metadata": {
    "execution": {
     "iopub.execute_input": "2025-10-22T18:00:08.069564Z",
     "iopub.status.busy": "2025-10-22T18:00:08.069470Z",
     "iopub.status.idle": "2025-10-22T18:00:08.098407Z",
     "shell.execute_reply": "2025-10-22T18:00:08.098191Z"
    }
   },
   "outputs": [
    {
     "data": {
      "text/html": [
       "<div>\n",
       "<style scoped>\n",
       "    .dataframe tbody tr th:only-of-type {\n",
       "        vertical-align: middle;\n",
       "    }\n",
       "\n",
       "    .dataframe tbody tr th {\n",
       "        vertical-align: top;\n",
       "    }\n",
       "\n",
       "    .dataframe thead th {\n",
       "        text-align: right;\n",
       "    }\n",
       "</style>\n",
       "<table border=\"1\" class=\"dataframe\">\n",
       "  <thead>\n",
       "    <tr style=\"text-align: right;\">\n",
       "      <th></th>\n",
       "      <th>label</th>\n",
       "      <th>HHI</th>\n",
       "      <th>N_eff</th>\n",
       "      <th>file</th>\n",
       "    </tr>\n",
       "  </thead>\n",
       "  <tbody>\n",
       "    <tr>\n",
       "      <th>0</th>\n",
       "      <td>ETH — Operator level</td>\n",
       "      <td>0.027255</td>\n",
       "      <td>36.69</td>\n",
       "      <td>data/processed/ethereum/rated_operator_hhi_202...</td>\n",
       "    </tr>\n",
       "    <tr>\n",
       "      <th>1</th>\n",
       "      <td>ETH — Owner level</td>\n",
       "      <td>0.072732</td>\n",
       "      <td>13.75</td>\n",
       "      <td>data/processed/ethereum/owner_hhi_2025-10-21.csv</td>\n",
       "    </tr>\n",
       "    <tr>\n",
       "      <th>2</th>\n",
       "      <td>Cosmos Hub</td>\n",
       "      <td>0.041973</td>\n",
       "      <td>23.83</td>\n",
       "      <td>data/processed/cosmos/cosmoshub_hhi_2025-10-21...</td>\n",
       "    </tr>\n",
       "  </tbody>\n",
       "</table>\n",
       "</div>"
      ],
      "text/plain": [
       "                  label       HHI  N_eff  \\\n",
       "0  ETH — Operator level  0.027255  36.69   \n",
       "1     ETH — Owner level  0.072732  13.75   \n",
       "2            Cosmos Hub  0.041973  23.83   \n",
       "\n",
       "                                                file  \n",
       "0  data/processed/ethereum/rated_operator_hhi_202...  \n",
       "1   data/processed/ethereum/owner_hhi_2025-10-21.csv  \n",
       "2  data/processed/cosmos/cosmoshub_hhi_2025-10-21...  "
      ]
     },
     "metadata": {},
     "output_type": "display_data"
    }
   ],
   "source": [
    "import pandas as pd, math, os\n",
    "from src.metrics.hhi import hhi_from_shares\n",
    "\n",
    "paths = {\n",
    "  'ETH — Operator level': 'data/processed/ethereum/rated_operator_hhi_2025-10-21.csv',\n",
    "  'ETH — Owner level':    'data/processed/ethereum/owner_hhi_2025-10-21.csv',\n",
    "  'Cosmos Hub':           'data/processed/cosmos/cosmoshub_hhi_2025-10-21.csv',\n",
    "}\n",
    "\n",
    "def find_share_col(df):\n",
    "    # prefer explicit names\n",
    "    for c in ['raw_share','share','hhi_share','fraction','weight']:\n",
    "        if c in df.columns: return c\n",
    "    # fallback heuristic\n",
    "    num = df.select_dtypes('number')\n",
    "    for c in num.columns:\n",
    "        if 0 <= num[c].min() <= 1 and 0 <= num[c].max() <= 1 and 0.9 <= float(num[c].sum()) <= 1.1:\n",
    "            return c\n",
    "    raise KeyError('No share-like column found')\n",
    "\n",
    "rows = []\n",
    "for label, path in paths.items():\n",
    "    if not os.path.exists(path):\n",
    "        rows.append({'label': label, 'file': path, 'HHI': None, 'N_eff': None})\n",
    "        continue\n",
    "    df = pd.read_csv(path)\n",
    "    col = find_share_col(df)\n",
    "    hhi, neff = hhi_from_shares(df[col])\n",
    "    rows.append({'label': label, 'file': path, 'HHI': hhi, 'N_eff': neff})\n",
    "\n",
    "df_check = pd.DataFrame(rows)\n",
    "display(df_check[['label','HHI','N_eff','file']].round({'HHI':6,'N_eff':2}))\n"
   ]
  },
  {
   "cell_type": "markdown",
   "id": "78beb89c",
   "metadata": {},
   "source": [
    "## Write refreshed human summary\n",
    "This mirrors `scripts/build_hhi_summary.py` so the README can cite a human-readable file."
   ]
  },
  {
   "cell_type": "code",
   "execution_count": 3,
   "id": "e25864dc",
   "metadata": {
    "execution": {
     "iopub.execute_input": "2025-10-22T18:00:08.099512Z",
     "iopub.status.busy": "2025-10-22T18:00:08.099454Z",
     "iopub.status.idle": "2025-10-22T18:00:08.101904Z",
     "shell.execute_reply": "2025-10-22T18:00:08.101719Z"
    }
   },
   "outputs": [
    {
     "name": "stdout",
     "output_type": "stream",
     "text": [
      "Wrote reports/metrics/hhi_summary.md\n"
     ]
    }
   ],
   "source": [
    "from pathlib import Path\n",
    "md = ['# Concentration Metrics — HHI Summary\\n']\n",
    "for _,r in df_check.iterrows():\n",
    "    if pd.isna(r['HHI']):\n",
    "        md.append(f\"- {r['label']}: **(file not found)**  \\n  _Source:_ `{r['file']}`\")\n",
    "    else:\n",
    "        md.append(f\"- {r['label']}: HHI ≈ **{r['HHI']:.6f}** → N_eff ≈ **{r['N_eff']:.2f}**  \\n  _Source:_ `{r['file']}`\")\n",
    "Path('reports/metrics').mkdir(parents=True, exist_ok=True)\n",
    "Path('reports/metrics/hhi_summary.md').write_text('\\n'.join(md)+'\\n')\n",
    "print('Wrote reports/metrics/hhi_summary.md')\n"
   ]
  }
 ],
 "metadata": {
  "kernelspec": {
   "display_name": "Python 3",
   "language": "python",
   "name": "python3"
  },
  "language_info": {
   "codemirror_mode": {
    "name": "ipython",
    "version": 3
   },
   "file_extension": ".py",
   "mimetype": "text/x-python",
   "name": "python",
   "nbconvert_exporter": "python",
   "pygments_lexer": "ipython3",
   "version": "3.9.6"
  }
 },
 "nbformat": 4,
 "nbformat_minor": 5
}
