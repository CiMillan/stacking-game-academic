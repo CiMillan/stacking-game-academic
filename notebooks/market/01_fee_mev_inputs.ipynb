{
 "cells": [
  {
   "cell_type": "markdown",
   "id": "be7ced05",
   "metadata": {},
   "source": [
    "# §4.3 Reward Baseline Inputs — Issuance, Priority Fees, MEV\n",
    "\n",
    "This notebook loads **`reports/metrics/reward_inputs.csv`** to feed the baseline parameters for `src/model/issuance.py`."
   ]
  },
  {
   "cell_type": "code",
   "execution_count": null,
   "id": "549da456",
   "metadata": {},
   "outputs": [],
   "source": [
    "import pandas as pd\n",
    "from pathlib import Path\n",
    "path = Path('reports/metrics/reward_inputs.csv')\n",
    "if not path.exists():\n",
    "    raise FileNotFoundError(f\"Missing {path}. Run scripts/build_reward_inputs.py first.\")\n",
    "ri = pd.read_csv(path)\n",
    "display(ri)\n"
   ]
  }
 ],
 "metadata": {
  "kernelspec": {
   "display_name": "Python 3",
   "language": "python",
   "name": "python3"
  },
  "language_info": {
   "name": "python"
  }
 },
 "nbformat": 4,
 "nbformat_minor": 5
}
