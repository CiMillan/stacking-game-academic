{
  "cells": [
    {
      "cell_type": "markdown",
      "metadata": {},
      "source": [
        "# \u00a75.5 Diversity \u2014 Relay Diversity\n",
        "\n",
        "Tracks time-varying share of relays and concentration of relay usage.\n",
        "\n",
        "**Inputs \u2192 \u00a74.1:** Relay share by time.\n",
        "**Outputs \u2192 \u00a75.5:** Relay concentration metrics."
      ]
    },
    {
      "cell_type": "code",
      "metadata": {},
      "execution_count": null,
      "outputs": [],
      "source": [
        "# TODO: load relay share time series and compute concentration."
      ]
    }
  ],
  "metadata": {
    "kernelspec": {
      "display_name": "Python 3",
      "language": "python",
      "name": "python3"
    },
    "language_info": {
      "name": "python"
    }
  },
  "nbformat": 4,
  "nbformat_minor": 5
}