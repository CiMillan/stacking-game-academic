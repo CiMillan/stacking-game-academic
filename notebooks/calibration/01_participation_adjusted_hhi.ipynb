{
  "cells": [
    {
      "cell_type": "markdown",
      "metadata": {},
      "source": [
        "# \u00a75.2 Participation-adjusted Concentration\n"
      ]
    },
    {
      "cell_type": "code",
      "metadata": {},
      "execution_count": null,
      "outputs": [],
      "source": [
        "import pandas as pd\n",
        "from src.metrics.hhi import hhi_from_shares\n",
        "\n",
        "df = pd.read_parquet(\"data/processed/ethereum/participation_weights_by_operator.parquet\")\n",
        "raw_hhi, raw_neff = hhi_from_shares(df['raw_share'])\n",
        "eff_hhi, eff_neff = hhi_from_shares(df['effective_share'])\n",
        "print({'raw_HHI': round(raw_hhi,6), 'raw_N_eff': round(raw_neff,2),\n",
        "       'adj_HHI': round(eff_hhi,6), 'adj_N_eff': round(eff_neff,2)})\n"
      ]
    }
  ],
  "metadata": {
    "kernelspec": {
      "display_name": "Python 3",
      "language": "python",
      "name": "python3"
    },
    "language_info": {
      "name": "python"
    }
  },
  "nbformat": 4,
  "nbformat_minor": 5
}